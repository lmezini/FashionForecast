{
 "cells": [
  {
   "cell_type": "code",
   "execution_count": null,
   "id": "b0caf6b6",
   "metadata": {},
   "outputs": [
    {
     "name": "stderr",
     "output_type": "stream",
     "text": [
      "OMP: Info #276: omp_set_nested routine deprecated, please use omp_set_max_active_levels instead.\n"
     ]
    }
   ],
   "source": [
    "import torchvision\n",
    "from PIL import Image\n",
    "\n",
    "import numpy as np\n",
    "import matplotlib.pyplot as plt\n",
    "from sklearn.cluster import KMeans\n",
    "import glob\n",
    "\n",
    "from rembg import remove"
   ]
  },
  {
   "cell_type": "markdown",
   "id": "50baff71",
   "metadata": {},
   "source": [
    "Let's forcast the trending colors in fashion for Fall and Winter 2025 by using a clustering algorthim to analyze runway show images.\n",
    "\n",
    "All photos taken from https://nowfashion.com/"
   ]
  },
  {
   "cell_type": "markdown",
   "id": "efaf13e7",
   "metadata": {},
   "source": [
    "Steps:\n",
    "1. Read in image\n",
    "2. Remove image background so only model is present (this is to avoid run way setting from influencing color   analysis)\n",
    "3. For each image, apply K-means to RGB color data to identify 6 clusters. Each cluster centroid will correspond to a dominant color in the image. One of the 6 centroids will correspond to the color of the mask applied to the background and will be removed.\n",
    "4. Aggregate all colors identified in step 3. and reapply K-means to identify main color scheme across all images\n"
   ]
  },
  {
   "cell_type": "code",
   "execution_count": null,
   "id": "b9fcb9bf",
   "metadata": {},
   "outputs": [],
   "source": [
    "def find_colors(im_name, plot = False):\n",
    "    # load image\n",
    "    image = Image.open(im_name).convert('RGB')\n",
    "\n",
    "    # Removing the background from the given Image\n",
    "    # and shape into 2d array\n",
    "    im_no_background = remove(image, bgcolor=(255, 255, 255, 255))\n",
    "    cropped_image_tensor = torchvision.transforms.functional.to_tensor(\n",
    "        im_no_background)\n",
    "    h, w, c = cropped_image_tensor.permute(2, 1, 0).shape\n",
    "    im2d = cropped_image_tensor.permute(\n",
    "        2, 1, 0).reshape(h*w, c)\n",
    "\n",
    "    #run kmeans\n",
    "    kmeans = KMeans(n_clusters=6, n_init=10)\n",
    "    s = kmeans.fit(im2d)\n",
    "\n",
    "    labels = kmeans.labels_\n",
    "    labels = list(labels)\n",
    "    centroid = kmeans.cluster_centers_\n",
    "\n",
    "    #one centroid will include mask color as a color\n",
    "    #with values approximately equal to [1,1,1,1]\n",
    "    #remove that one by finding element closest to sum([1,1,1,1])\n",
    "    good_centroids = []\n",
    "    for i in range(6):\n",
    "        if round(np.sum(centroid[i])) != 4:\n",
    "            good_centroids.append(i)\n",
    "\n",
    "    #find percent representation of each color\n",
    "    percent = []\n",
    "    for i in good_centroids:\n",
    "        j = labels.count(i)\n",
    "        j = j/(len(labels))\n",
    "        percent.append(j)\n",
    "\n",
    "    if plot == True:\n",
    "        plt.pie(percent, colors=np.array(centroid[good_centroids]),\n",
    "            labels=np.arange(len(centroid[good_centroids])))\n",
    "        plt.show()\n",
    "        plt.imshow(image)\n",
    "        plt.show()\n",
    "\n",
    "    return percent, centroid[good_centroids]"
   ]
  },
  {
   "cell_type": "code",
   "execution_count": 5,
   "id": "7acd667f",
   "metadata": {},
   "outputs": [],
   "source": [
    "images = glob.glob(\"all_images/*/*\")"
   ]
  },
  {
   "cell_type": "markdown",
   "id": "d9643c47",
   "metadata": {},
   "source": [
    "Demonstrate image background removal"
   ]
  },
  {
   "cell_type": "code",
   "execution_count": null,
   "id": "618d122e",
   "metadata": {},
   "outputs": [],
   "source": [
    "# load image\n",
    "image = Image.open(images[0]).convert('RGB')\n",
    "\n",
    "# Removing the background from the given Image\n",
    "# and shape into 2d array\n",
    "im_no_background = remove(image, bgcolor=(255, 255, 255, 255))\n",
    "plt.imshow(im_no_background)"
   ]
  },
  {
   "cell_type": "code",
   "execution_count": null,
   "id": "9e379b63",
   "metadata": {},
   "outputs": [],
   "source": [
    "centroids = []\n",
    "percents = []\n",
    "for i in images:\n",
    "    percent, centroid = find_colors(i)\n",
    "    percents.append(percent)\n",
    "    centroids.append(centroid)"
   ]
  },
  {
   "cell_type": "code",
   "execution_count": null,
   "id": "5f6132f5",
   "metadata": {},
   "outputs": [],
   "source": [
    "tensor = torchvision.transforms.functional.to_tensor(\n",
    "    np.concatenate(centroids))\n",
    "\n",
    "# h, w, c = tensor.permute(1,0).shape\n",
    "tensor_2d = tensor[0]\n",
    "\n",
    "kmeans = KMeans(n_clusters=10, n_init=10)\n",
    "s = kmeans.fit(tensor_2d)\n",
    "\n",
    "labels = kmeans.labels_\n",
    "labels = list(labels)\n",
    "centroid = kmeans.cluster_centers_\n",
    "\n",
    "# find percent representation of each color\n",
    "percent = []\n",
    "for i in range(len(centroid)):\n",
    "    j = labels.count(i)\n",
    "    j = j/(len(labels))\n",
    "    percent.append(j)\n",
    "\n",
    "plt.pie(percent, colors=centroid)\n",
    "plt.show()"
   ]
  }
 ],
 "metadata": {
  "kernelspec": {
   "display_name": "pytorch",
   "language": "python",
   "name": "python3"
  },
  "language_info": {
   "codemirror_mode": {
    "name": "ipython",
    "version": 3
   },
   "file_extension": ".py",
   "mimetype": "text/x-python",
   "name": "python",
   "nbconvert_exporter": "python",
   "pygments_lexer": "ipython3",
   "version": "3.9.15"
  }
 },
 "nbformat": 4,
 "nbformat_minor": 5
}
